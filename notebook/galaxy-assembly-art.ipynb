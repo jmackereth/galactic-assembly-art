{
 "cells": [
  {
   "cell_type": "markdown",
   "metadata": {},
   "source": [
    "# Galactic Assembly as Abstract Art\n",
    "\n",
    "This is an interactive version of a visualisation that I originally made for understanding how galaxies assemble in the evolving Universe of the EAGLE simulations ([Schaye et al. 2015](https://ui.adsabs.harvard.edu/abs/2015MNRAS.446..521S/abstract), [Crain et al. 2015](https://ui.adsabs.harvard.edu/abs/2015MNRAS.450.1937C/abstract)). In the $\\Lambda$-Cold Dark Matter ($\\Lambda$-CDM) model, the current 'standard' cosmological model, galaxies assemble hierarchically, building their mass over time through the merging of smaller galactic building blocks. In the $\\Lambda$-CDM model, this hierarchical assembly is mainly governed by the distribution of the cold dark matter in the very early universe, itself determined by the details of the events following the Big Bang. The EAGLE simulations simulate these events from just after the Big Bang, right out to the present day in a representative volume of a Universe. This visualisation shows the paths taken by simulation particles which eventually form into a galaxy with a similar mass, shape and size to our galaxy, the Milky Way - a relatively large disc galaxy. \n",
    "\n",
    "These events are commonly visualised through [movies](https://vimeo.com/93020498), which focus on the galaxy forming in the simulations, showing its state at each simulation snapshot. Instead, by showing the paths taken by the particles which make a galaxy over the full length of the simulation, in one frame, we see a different side of galaxy evolution. The importance of hierarchical assembly in forming the galaxies we observe in the Universe today is exposed. \n",
    "\n",
    "A bold streak of tracks through the center of the field belongs to the main progenitor of the final galaxy, formed from a large overdense region of gas and dark matter, early in the evolution of the simulation. The mass of this early progenitor acts as a magnet, sucking up gas and attracting smaller early galaxies with its gravitational pull. Meanwhile, other, large overdensities undergo the same process, becoming galaxies of nearly comparable size to the main galaxy. These too are pulled in, but are dragged in much more gradually, having gained angular momentum during their own formation. These loop around the main 'branch', forming coil-like patterns in the visualisation. Eventually, they merge onto the main galaxy, and they become one.\n",
    "\n",
    "By toggling the dark matter particles in the visualisation, the fundamental role of this hidden component of our universe is laid bare. The Baryons (stars and gas) follow the dark matter to their fate as galaxies, and the exact properties of the dark matter affect the eventual outcome of the simulations. By using simulations like EAGLE to understand galaxy formation, we may be able to make predictions for the nature of dark matter which will aid in its detection and characterisation in the real Universe."
   ]
  },
  {
   "cell_type": "code",
   "execution_count": 1,
   "metadata": {},
   "outputs": [],
   "source": [
    "\n",
    "import numpy as np\n",
    "import matplotlib.pyplot as plt\n",
    "from mpl_toolkits import mplot3d\n",
    "from ipywidgets import interactive, HBox, VBox, Layout, interactive_output\n",
    "import ipywidgets as widgets\n",
    "\n",
    "\n",
    "%config InlineBackend.figure_format = 'retina'"
   ]
  },
  {
   "cell_type": "code",
   "execution_count": 2,
   "metadata": {},
   "outputs": [],
   "source": [
    "#open the data file\n",
    "with open('../EAGLE_MW_trace_coords_downsampled_10.npy', 'rb') as f:\n",
    "    coordinates = np.load(f)\n",
    "    dmcoordinates = np.load(f)"
   ]
  },
  {
   "cell_type": "code",
   "execution_count": 3,
   "metadata": {},
   "outputs": [],
   "source": [
    "#re-center all the coordinates to the mean\n",
    "mean = np.nanmean(coordinates.reshape(np.shape(coordinates)[0]*np.shape(coordinates)[1],np.shape(coordinates)[2]), axis=0)\n",
    "dmX = dmcoordinates[:,:,0]-mean[0]\n",
    "dmY = dmcoordinates[:,:,1]-mean[1]\n",
    "dmZ = dmcoordinates[:,:,2]-mean[2]\n",
    "X = coordinates[:,:,0]-mean[0]\n",
    "Y = coordinates[:,:,1]-mean[1]\n",
    "Z = coordinates[:,:,2]-mean[2]\n",
    "\n",
    "#get the box-bounds for equal aspect ratio later\n",
    "maxX, minX = np.nanmax([np.nanmax(dmX), np.nanmax(X)]), np.nanmin([np.nanmin(dmX), np.nanmin(X)])\n",
    "maxY, minY = np.nanmax([np.nanmax(dmY), np.nanmax(Y)]), np.nanmin([np.nanmin(dmY), np.nanmin(Y)])\n",
    "maxZ, minZ = np.nanmax([np.nanmax(dmZ), np.nanmax(Z)]), np.nanmin([np.nanmin(dmZ), np.nanmin(Z)])\n",
    "max_range = np.array([maxX-minX, maxY-minY, maxZ-minZ]).max()\n",
    "Xb = 0.5*max_range*np.mgrid[-1:2:2,-1:2:2,-1:2:2][0].flatten() + 0.5*(maxX+minX)\n",
    "Yb = 0.5*max_range*np.mgrid[-1:2:2,-1:2:2,-1:2:2][1].flatten() + 0.5*(maxY+minY)\n",
    "Zb = 0.5*max_range*np.mgrid[-1:2:2,-1:2:2,-1:2:2][2].flatten() + 0.5*(maxZ+minZ)\n",
    "\n",
    "\n",
    "def f(phi, theta, zoom, linewidths, baryons, darkmatter):\n",
    "    \"\"\"generates the figure at a given set of parameters\"\"\"\n",
    "    fig = plt.figure()\n",
    "    ax = plt.axes(projection='3d')\n",
    "    ax.view_init(phi, theta)\n",
    "    fig.set_size_inches(10,10)\n",
    "    \n",
    "    if darkmatter:\n",
    "        for i in range(np.shape(dmX)[1]): \n",
    "            ax.plot3D(dmX[:,i], dmY[:,i], dmZ[:,i], color='#7EAEBF', lw=2*linewidths, alpha=0.5)\n",
    "    if baryons:\n",
    "        for i in range(np.shape(X)[1]): \n",
    "            ax.plot3D(X[:,i], Y[:,i], Z[:,i], color='#FFFFFF', lw=linewidths, alpha=0.5)\n",
    "    #add some points to make the axis ratio right\n",
    "    for xb, yb, zb in zip(Xb, Yb, Zb):\n",
    "        ax.plot([xb], [yb], [zb], 'w')\n",
    "\n",
    "    ax.set_axis_off()\n",
    "    #handle the 'zooming'\n",
    "    xlim, ylim, zlim = ax.get_xlim(), ax.get_ylim(), ax.get_zlim()\n",
    "    ax.set_xlim(np.array(xlim)/zoom)\n",
    "    ax.set_ylim(np.array(ylim)/zoom)\n",
    "    ax.set_zlim(np.array(zlim)/zoom)\n",
    "    ax.set_facecolor('Black')\n",
    "    #add the current width\n",
    "    width= round(max_range/zoom/0.677,2)\n",
    "    ax.text2D(0.05, -0.05, \"Current Width = %s Mpc (%s MLy)\" % (width, round((width)*3.262,2)), transform=ax.transAxes, color='Black', fontsize=15)\n",
    "    return fig"
   ]
  },
  {
   "cell_type": "code",
   "execution_count": 4,
   "metadata": {},
   "outputs": [
    {
     "data": {
      "application/vnd.jupyter.widget-view+json": {
       "model_id": "ef3d91a635c4415eb12712c79df9d9d5",
       "version_major": 2,
       "version_minor": 0
      },
      "text/plain": [
       "HBox(children=(VBox(children=(IntSlider(value=0, continuous_update=False, description='Pitch Angle', max=90, m…"
      ]
     },
     "metadata": {},
     "output_type": "display_data"
    },
    {
     "data": {
      "application/vnd.jupyter.widget-view+json": {
       "model_id": "287151edf46646f28e59cfd9e9621176",
       "version_major": 2,
       "version_minor": 0
      },
      "text/plain": [
       "Output()"
      ]
     },
     "metadata": {},
     "output_type": "display_data"
    }
   ],
   "source": [
    "#sliders and buttons\n",
    "phi_slider = widgets.IntSlider(min=-90, max=90, value=0, continuous_update=False, description='Pitch Angle')\n",
    "theta_slider = widgets.IntSlider(min=0,max=360,value=0,continuous_update=False, description='Rotation')\n",
    "zoom_slider = widgets.IntSlider(min=1,max=50, value=13,continuous_update=False, description='Zoom')\n",
    "line_slider = widgets.FloatLogSlider( value=0.02, base=10, min=-3,max=0., step=0.2, continuous_update=False, description='Line Width')\n",
    "baryon_button = widgets.ToggleButton(value=True,description='Baryons',tooltip='Description',icon='check')\n",
    "dm_button = widgets.ToggleButton(value=False,description='Dark Matter',tooltip='Description',icon='check')\n",
    "#UI build\n",
    "left_box = VBox([phi_slider, zoom_slider, baryon_button])\n",
    "right_box = VBox([theta_slider, line_slider, dm_button])\n",
    "controls = HBox([left_box, right_box])\n",
    "#use interactive_output\n",
    "interactive_plot = interactive_output(f, {'phi':phi_slider, \n",
    "                                  'theta':theta_slider, \n",
    "                                  'zoom':zoom_slider, \n",
    "                                  'linewidths':line_slider,\n",
    "                                  'baryons':baryon_button,\n",
    "                                  'darkmatter':dm_button})\n",
    "#display\n",
    "display(controls, interactive_plot)"
   ]
  },
  {
   "cell_type": "markdown",
   "metadata": {},
   "source": [
    "To rotate and pitch the image, you can use the Pitch Angle and Rotation sliders. The zoom slider allows you to change the extent of the box, but maintains the aspect ratio. The Line Width adjusts the width of the particle traces, allowing you to highlight lower or higher density regions (low line width allows you to see the densest regions, while a high line width highlights the very low density accreting gas and dark matter).\n",
    "\n",
    "Finally, you can toggle the baryonic and dark matter particles on and off using the buttons. The default shows only the baryons, in white. The dark matter particles are shown as thicker blue lines - you can see that these form 'haloes' around the baryonic particles. The current width of the window is shown below the image in mega-parsecs and in millions of light years (the distances are technically in 'comoving' coordinates, which remain constant despite the expansion of the universe)."
   ]
  },
  {
   "cell_type": "code",
   "execution_count": null,
   "metadata": {},
   "outputs": [],
   "source": []
  }
 ],
 "metadata": {
  "kernelspec": {
   "display_name": "Python 3",
   "language": "python",
   "name": "python3"
  },
  "language_info": {
   "codemirror_mode": {
    "name": "ipython",
    "version": 3
   },
   "file_extension": ".py",
   "mimetype": "text/x-python",
   "name": "python",
   "nbconvert_exporter": "python",
   "pygments_lexer": "ipython3",
   "version": "3.7.7"
  }
 },
 "nbformat": 4,
 "nbformat_minor": 4
}
